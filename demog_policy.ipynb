{
 "cells": [
  {
   "cell_type": "code",
   "id": "initial_id",
   "metadata": {
    "collapsed": true,
    "ExecuteTime": {
     "end_time": "2024-05-12T01:27:01.246815Z",
     "start_time": "2024-05-12T01:27:01.168075Z"
    }
   },
   "source": [
    "import pickle\n",
    "import numpy as np\n",
    "\n",
    "# Load the dataset from the pickle file\n",
    "with open('step_5_start.pkl', 'rb') as file:\n",
    "    MIMICzs = pickle.load(file)\n",
    "    actionbloc = pickle.load(file)\n",
    "    reformat5 = pickle.load(file)\n",
    "    recqvi = pickle.load(file)\n",
    "\n",
    "# Define all columns as previously extracted from your script\n",
    "colbin = ['gender', 'mechvent', 'max_dose_vaso', 're_admission']\n",
    "colnorm = ['age', 'Weight_kg', 'GCS', 'HR', 'SysBP', 'MeanBP', 'DiaBP', 'RR', 'Temp_C', 'FiO2_1',\n",
    "           'Potassium', 'Sodium', 'Chloride', 'Glucose', 'Magnesium', 'Calcium',\n",
    "           'Hb', 'WBC_count', 'Platelets_count', 'PTT', 'PT', 'Arterial_pH', 'paO2', 'paCO2',\n",
    "           'Arterial_BE', 'HCO3', 'Arterial_lactate', 'SOFA', 'SIRS', 'Shock_Index', 'PaO2_FiO2', 'cumulated_balance']\n",
    "collog = ['SpO2', 'BUN', 'Creatinine', 'SGOT', 'SGPT', 'Total_bili', 'INR', 'input_total', 'input_4hourly', 'output_total', 'output_4hourly']\n",
    "\n",
    "all_columns = colbin + colnorm + collog\n",
    "\n",
    "# Print the first timestep of the first patient along with the column names\n",
    "# Assuming reformat5 is directly related to these columns and is a 2D array\n",
    "print(\"Data for the first timestep of a patient:\")\n",
    "first_timestep_data = reformat5[0, :]  # This accesses the first row of the numpy array\n",
    "for col_name, value in zip(all_columns, first_timestep_data):\n",
    "    print(f\"{col_name}: {value}\")\n"
   ],
   "outputs": [
    {
     "name": "stdout",
     "output_type": "stream",
     "text": [
      "Data for the first timestep of a patient:\n",
      "gender: 1.0\n",
      "mechvent: 3.0\n",
      "max_dose_vaso: 7245486000.0\n",
      "re_admission: 0.0\n",
      "age: 17639.826435185187\n",
      "Weight_kg: 0.0\n",
      "GCS: 0.0\n",
      "HR: 0.0\n",
      "SysBP: 0.0\n",
      "MeanBP: 1.0\n",
      "DiaBP: 326.6666666666667\n",
      "RR: 78.69999694824219\n",
      "Temp_C: 15.0\n",
      "FiO2_1: 74.57142857142857\n",
      "Potassium: 104.71428571428571\n",
      "Sodium: 72.85714285714286\n",
      "Chloride: 56.0\n",
      "Glucose: 22.857142857142858\n",
      "Magnesium: 97.42857142857143\n",
      "Calcium: 36.33333175901383\n",
      "Hb: 0.30000001192092884\n",
      "WBC_count: 3.7\n",
      "Platelets_count: 141.64965986394557\n",
      "PTT: 109.33333333333334\n",
      "PT: 175.6214285714286\n",
      "Arterial_pH: 17.89010989010989\n",
      "paO2: 0.5\n",
      "paCO2: 2.5076923076923077\n",
      "Arterial_BE: 8.232967032967034\n",
      "HCO3: 1.05\n",
      "Arterial_lactate: 31.0\n",
      "SOFA: 25.0\n",
      "SIRS: 12.0\n",
      "Shock_Index: 0.7999999999999999\n",
      "PaO2_FiO2: 2.8\n",
      "cumulated_balance: 9.53319357092942\n",
      "SpO2: 11.742857142857144\n",
      "BUN: 260.31868131868134\n",
      "Creatinine: 25.200000000000003\n",
      "SGOT: 11.400000000000002\n",
      "SGPT: 1.0\n",
      "Total_bili: 7.5\n",
      "INR: 84.0\n",
      "input_total: 38.0\n",
      "input_4hourly: 5.0\n",
      "output_total: 1.1800000000000002\n",
      "output_4hourly: 21.875\n"
     ]
    }
   ],
   "execution_count": 7
  },
  {
   "metadata": {
    "ExecuteTime": {
     "end_time": "2024-05-12T01:27:41.547673Z",
     "start_time": "2024-05-12T01:27:41.504459Z"
    }
   },
   "cell_type": "code",
   "source": [
    "import pickle\n",
    "import numpy as np\n",
    "\n",
    "# Load the dataset from the pickle file\n",
    "with open('step_5_start.pkl', 'rb') as file:\n",
    "    MIMICzs = pickle.load(file)\n",
    "    actionbloc = pickle.load(file)\n",
    "    reformat5 = pickle.load(file)\n",
    "    recqvi = pickle.load(file)\n",
    "\n",
    "# Define all columns as previously extracted from your script\n",
    "colbin = ['gender', 'mechvent', 'max_dose_vaso', 're_admission']\n",
    "colnorm = ['age', 'Weight_kg', 'GCS', 'HR', 'SysBP', 'MeanBP', 'DiaBP', 'RR', 'Temp_C', 'FiO2_1',\n",
    "           'Potassium', 'Sodium', 'Chloride', 'Glucose', 'Magnesium', 'Calcium',\n",
    "           'Hb', 'WBC_count', 'Platelets_count', 'PTT', 'PT', 'Arterial_pH', 'paO2', 'paCO2',\n",
    "           'Arterial_BE', 'HCO3', 'Arterial_lactate', 'SOFA', 'SIRS', 'Shock_Index', 'PaO2_FiO2', 'cumulated_balance']\n",
    "collog = ['SpO2', 'BUN', 'Creatinine', 'SGOT', 'SGPT', 'Total_bili', 'INR', 'input_total', 'input_4hourly', 'output_total', 'output_4hourly']\n",
    "\n",
    "all_columns = colbin + colnorm + collog\n",
    "\n",
    "# Print the first timestep of the first patient along with the column names\n",
    "# Assuming reformat5 is directly related to these columns and is a 2D array\n",
    "print(\"Data for the first timestep of a patient:\")\n",
    "first_timestep_data = reformat5[6, :]  # This accesses the first row of the numpy array\n",
    "for col_name, value in zip(all_columns, first_timestep_data):\n",
    "    print(f\"{col_name}: {value}\")\n"
   ],
   "id": "a5accea1d6c4dc20",
   "outputs": [
    {
     "name": "stdout",
     "output_type": "stream",
     "text": [
      "Data for the first timestep of a patient:\n",
      "gender: 9.0\n",
      "mechvent: 3.0\n",
      "max_dose_vaso: 7245601200.0\n",
      "re_admission: 0.0\n",
      "age: 17639.826435185187\n",
      "Weight_kg: 0.0\n",
      "GCS: 0.0\n",
      "HR: 0.0\n",
      "SysBP: 0.0\n",
      "MeanBP: 1.0\n",
      "DiaBP: 326.6666666666667\n",
      "RR: 79.69999694824219\n",
      "Temp_C: 10.0\n",
      "FiO2_1: 93.68333333333334\n",
      "Potassium: 139.25\n",
      "Sodium: 83.86666666666667\n",
      "Chloride: 59.95\n",
      "Glucose: 25.483333333333334\n",
      "Magnesium: 96.1\n",
      "Calcium: 38.17129580179851\n",
      "Hb: 0.4000000059604645\n",
      "WBC_count: 3.5\n",
      "Platelets_count: 139.0\n",
      "PTT: 104.0\n",
      "PT: 97.0\n",
      "Arterial_pH: 11.0\n",
      "paO2: 0.6\n",
      "paCO2: 2.4\n",
      "Arterial_BE: 7.3\n",
      "HCO3: 1.16\n",
      "Arterial_lactate: 28.0\n",
      "SOFA: 34.0\n",
      "SIRS: 30.0\n",
      "Shock_Index: 4.3\n",
      "PaO2_FiO2: 2.4\n",
      "cumulated_balance: 9.6\n",
      "SpO2: 10.8\n",
      "BUN: 139.0\n",
      "Creatinine: 26.4\n",
      "SGOT: 12.6\n",
      "SGPT: 1.1\n",
      "Total_bili: 7.450000000000001\n",
      "INR: 140.0\n",
      "input_total: 33.0\n",
      "input_4hourly: 0.0\n",
      "output_total: 1.6\n",
      "output_4hourly: 28.0\n"
     ]
    }
   ],
   "execution_count": 12
  },
  {
   "metadata": {
    "ExecuteTime": {
     "end_time": "2024-05-12T01:29:48.433134Z",
     "start_time": "2024-05-12T01:29:48.399324Z"
    }
   },
   "cell_type": "code",
   "source": [
    "import pickle\n",
    "import pandas as pd\n",
    "\n",
    "# Load the dataset from the pickle file\n",
    "with open('step_5_start.pkl', 'rb') as file:\n",
    "    MIMICzs = pickle.load(file)  # Assuming this is a pandas DataFrame\n",
    "\n",
    "\n",
    "# Show the first few rows of the DataFrame to understand its structure\n",
    "print(\"\\nFirst few rows of the DataFrame:\")\n",
    "print(MIMICzs.head())\n",
    "\n",
    "# Print statistics for numerical columns\n",
    "print(\"\\nStatistics for the DataFrame's numerical columns:\")\n",
    "print(MIMICzs.describe())\n",
    "\n",
    "# Print a specific patient's data by index, example index 0\n",
    "print(\"\\nData for the first patient (index 0):\")\n",
    "print(MIMICzs.iloc[0])\n"
   ],
   "id": "f1b5af5f12bd6699",
   "outputs": [
    {
     "name": "stdout",
     "output_type": "stream",
     "text": [
      "\n",
      "First few rows of the DataFrame:\n"
     ]
    },
    {
     "ename": "AttributeError",
     "evalue": "'numpy.ndarray' object has no attribute 'head'",
     "output_type": "error",
     "traceback": [
      "\u001B[0;31m---------------------------------------------------------------------------\u001B[0m",
      "\u001B[0;31mAttributeError\u001B[0m                            Traceback (most recent call last)",
      "Cell \u001B[0;32mIn[14], line 11\u001B[0m\n\u001B[1;32m      9\u001B[0m \u001B[38;5;66;03m# Show the first few rows of the DataFrame to understand its structure\u001B[39;00m\n\u001B[1;32m     10\u001B[0m \u001B[38;5;28mprint\u001B[39m(\u001B[38;5;124m\"\u001B[39m\u001B[38;5;130;01m\\n\u001B[39;00m\u001B[38;5;124mFirst few rows of the DataFrame:\u001B[39m\u001B[38;5;124m\"\u001B[39m)\n\u001B[0;32m---> 11\u001B[0m \u001B[38;5;28mprint\u001B[39m(\u001B[43mMIMICzs\u001B[49m\u001B[38;5;241;43m.\u001B[39;49m\u001B[43mhead\u001B[49m())\n\u001B[1;32m     13\u001B[0m \u001B[38;5;66;03m# Print statistics for numerical columns\u001B[39;00m\n\u001B[1;32m     14\u001B[0m \u001B[38;5;28mprint\u001B[39m(\u001B[38;5;124m\"\u001B[39m\u001B[38;5;130;01m\\n\u001B[39;00m\u001B[38;5;124mStatistics for the DataFrame\u001B[39m\u001B[38;5;124m'\u001B[39m\u001B[38;5;124ms numerical columns:\u001B[39m\u001B[38;5;124m\"\u001B[39m)\n",
      "\u001B[0;31mAttributeError\u001B[0m: 'numpy.ndarray' object has no attribute 'head'"
     ]
    }
   ],
   "execution_count": 14
  },
  {
   "metadata": {},
   "cell_type": "code",
   "outputs": [],
   "execution_count": null,
   "source": "",
   "id": "33f50b30fc8994bf"
  }
 ],
 "metadata": {
  "kernelspec": {
   "display_name": "Python 3",
   "language": "python",
   "name": "python3"
  },
  "language_info": {
   "codemirror_mode": {
    "name": "ipython",
    "version": 2
   },
   "file_extension": ".py",
   "mimetype": "text/x-python",
   "name": "python",
   "nbconvert_exporter": "python",
   "pygments_lexer": "ipython2",
   "version": "2.7.6"
  }
 },
 "nbformat": 4,
 "nbformat_minor": 5
}
